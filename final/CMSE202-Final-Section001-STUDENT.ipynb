{
 "cells": [
  {
   "cell_type": "markdown",
   "id": "06ed618e",
   "metadata": {},
   "source": [
    "# CMSE 202 Final Exam (Sect. 001 -- Spring 2023)"
   ]
  },
  {
   "cell_type": "markdown",
   "id": "1399da92",
   "metadata": {},
   "source": [
    "Spencer Pachavis\n",
    "\n",
    "spencerp77"
   ]
  },
  {
   "cell_type": "markdown",
   "id": "4c9f1c87",
   "metadata": {},
   "source": [
    "---\n",
    "The goal of this final is to give you the opportunity to test out some of the skills that you've developed this semester. In particular, you'll reflect on what you know about writing code using Python and showcase some of your new programming skills.\n",
    "\n",
    "**Important note about using online resources:** This exam is \"open internet\". That means that you can look up documentation, google how to accomplish certain Python tasks, etc. Being able to effectively use the internet for computational modeling and data science is a very important skill, so we want to make sure you have the opportunity to exercise that skill. **However, the use of any person-to-person communication software is absolutely not acceptable.**\n",
    "\n",
    "**Do your own work.** This final is designed to give you the opportunity to show the instructor what you can do and you should hold yourself accountable for maintaining a high level of academic integrity. Any violation of academic integrity could result in you receiving a zero on the final.\n",
    "\n",
    "You are encouraged to look through the entire exam before you get started so that you can appropriately budget your time and understand the broad goals of the exam.\n",
    "\n",
    "\n",
    "While the exam will be *open* for 8 hours, **you should only take two hours on the exam.** The exam was written to take two hours. We'll be going on the honor system for this. There are times when instructors will be available to answer questions. \n",
    "\n",
    "If you cannot complete the code or your cells do not run, just provide your code **as complete as possible**.\n",
    "\n",
    "\n",
    "### Content Knowledge Tested\n",
    "- Using Github to save and track progress on your work\n",
    "- Effectively visualizing data\n",
    "- Using ML tools to create a classification model\n",
    "- Quantitatively evaluating classification models"
   ]
  },
  {
   "cell_type": "markdown",
   "id": "59b2d215",
   "metadata": {},
   "source": [
    "---\n",
    "## Part 0: Academic integrity statement\n",
    "\n",
    "Read the following statement and edit the markdown text to put your name in the statement. This is your commitment to doing your own authentic work on this exam."
   ]
  },
  {
   "cell_type": "markdown",
   "id": "5ab8b930",
   "metadata": {},
   "source": [
    "> I, Spencer Pachavis, affirm that this exam represents my own authetic work, without the use of any unpermitted aids or resources or person-to-person communication. I understand that this exam is an opportunity to showcase my own progress in developing and improving my computational skills and have done my best to demonstrate those skills.\n",
    "\n",
    "**Record the time you start here in the next cell:**"
   ]
  },
  {
   "cell_type": "markdown",
   "id": "1a9cd809",
   "metadata": {},
   "source": [
    "12:50"
   ]
  },
  {
   "cell_type": "markdown",
   "id": "a93190a7",
   "metadata": {},
   "source": [
    "---\n",
    "## Part 1: Add to your Git repository to track your progress on your exam (10 points total)\n",
    "\n",
    "Before you get to far along in the exam, you're going to add it to the `cmse202-S23-turnin` repository you created in class so that you can track your progress on the exam and preserve the final version that you turn in. In order to do this you need to\n",
    "\n",
    "### Part 1.1 (4 Points)\n",
    "\n",
    "1. Navigate to your `cmse202-S23-turnin` repository and create a new directory called `final`.\n",
    "2. Move this notebook into that **new directory** in your repository, then **add it and commit it to your repository**.\n",
    "3. Finally, to test that everything is working, \"git push\" the file so that it ends up in your GitHub repository.\n",
    "\n",
    "**Important**: Double check you've added your Professor and your TA as collaborators to your \"turnin\" respository (you should have done this in the previous homework assignment).\n",
    "\n",
    "**Also important**: Make sure that the version of this notebook that you are working on is the same one that you just added to your repository! If you are working on a different copy of the noteobok, **none of your changes will be tracked**!\n",
    "\n",
    "The file should now show up on your GitHub account in the `cmse202-S23-turnin` repository inside the `final` directory you just created.  Periodically, **you'll be asked to commit your changes to the repository and push them to the remote GitHub location**. It can be good to get into a habit of committing your changes any time you make a significant modification."
   ]
  },
  {
   "cell_type": "markdown",
   "id": "ff493aeb",
   "metadata": {},
   "source": [
    "---\n",
    "## Part 2 (10 Points)\n",
    "\n",
    "For this exam, you’ll be working with a data set that contains measurements of the physical characteristics of three penguin species (e.g., culmen legnth, culmen depth, flipper length, and body mass). This data set is modified from the one associated with a research article (https://journals.plos.org/plosone/article?id=10.1371/journal.pone.0090081). We’ll ask you a set of questions that center the classification of these penguins using techniques you’ve worked with in class and on the homework. \n",
    "\n",
    "<img src=\"\n",
    "https://pbs.twimg.com/media/EaAWkZ0U4AA1CQf?format=jpg&name=4096x4096\" border=\"0\" align=\"center\" width=\"800\">\n",
    "\n",
    "<img src=\"https://pbs.twimg.com/media/EaAXQn8U4AAoKUj?format=jpg&name=4096x4096\" border=\"0\" align=\"center\" width=\"400\">\n",
    "images found online.\n",
    "\n",
    "To get started, let’s grab the dataset we’ll be working with.\n",
    "\n",
    "**(2 pt) Use the following URL to download the dataset.**\n",
    "\n",
    "`https://raw.githubusercontent.com/huichiayu/cmse_202_802/main/data/Penguin_data.csv`"
   ]
  },
  {
   "cell_type": "code",
   "execution_count": 1,
   "id": "2d6212d2",
   "metadata": {},
   "outputs": [],
   "source": [
    "## your code\n",
    "\n",
    "#curl 'https://raw.githubusercontent.com/huichiayu/cmse_202_802/main/data/Penguin_data.csv' -o Penguin_data.csv"
   ]
  },
  {
   "cell_type": "markdown",
   "id": "50e4aa0d",
   "metadata": {},
   "source": [
    "**(3 pt) Import the dataset in the cell below.** Examine the data and see what features are in the data."
   ]
  },
  {
   "cell_type": "code",
   "execution_count": 2,
   "id": "eac1ee51",
   "metadata": {},
   "outputs": [
    {
     "data": {
      "text/html": [
       "<div>\n",
       "<style scoped>\n",
       "    .dataframe tbody tr th:only-of-type {\n",
       "        vertical-align: middle;\n",
       "    }\n",
       "\n",
       "    .dataframe tbody tr th {\n",
       "        vertical-align: top;\n",
       "    }\n",
       "\n",
       "    .dataframe thead th {\n",
       "        text-align: right;\n",
       "    }\n",
       "</style>\n",
       "<table border=\"1\" class=\"dataframe\">\n",
       "  <thead>\n",
       "    <tr style=\"text-align: right;\">\n",
       "      <th></th>\n",
       "      <th>studyName</th>\n",
       "      <th>SampleNumber</th>\n",
       "      <th>Species</th>\n",
       "      <th>Region</th>\n",
       "      <th>Island</th>\n",
       "      <th>Individual_ID</th>\n",
       "      <th>ClutchCompletion</th>\n",
       "      <th>DateEgg</th>\n",
       "      <th>CulmenLength(mm)</th>\n",
       "      <th>CulmenDepth(mm)</th>\n",
       "      <th>FlipperLength(mm)</th>\n",
       "      <th>BodyMass(g)</th>\n",
       "      <th>Sex</th>\n",
       "    </tr>\n",
       "  </thead>\n",
       "  <tbody>\n",
       "    <tr>\n",
       "      <th>0</th>\n",
       "      <td>PAL0708</td>\n",
       "      <td>1</td>\n",
       "      <td>Gentoo</td>\n",
       "      <td>Anvers</td>\n",
       "      <td>Biscoe</td>\n",
       "      <td>N31A1</td>\n",
       "      <td>Yes</td>\n",
       "      <td>2007-11-27</td>\n",
       "      <td>46.1</td>\n",
       "      <td>13.2</td>\n",
       "      <td>211</td>\n",
       "      <td>4500</td>\n",
       "      <td>FEMALE</td>\n",
       "    </tr>\n",
       "    <tr>\n",
       "      <th>1</th>\n",
       "      <td>PAL0708</td>\n",
       "      <td>2</td>\n",
       "      <td>Gentoo</td>\n",
       "      <td>Anvers</td>\n",
       "      <td>Biscoe</td>\n",
       "      <td>N31A2</td>\n",
       "      <td>Yes</td>\n",
       "      <td>2007-11-27</td>\n",
       "      <td>50.0</td>\n",
       "      <td>16.3</td>\n",
       "      <td>230</td>\n",
       "      <td>5700</td>\n",
       "      <td>MALE</td>\n",
       "    </tr>\n",
       "    <tr>\n",
       "      <th>2</th>\n",
       "      <td>PAL0708</td>\n",
       "      <td>3</td>\n",
       "      <td>Gentoo</td>\n",
       "      <td>Anvers</td>\n",
       "      <td>Biscoe</td>\n",
       "      <td>N32A1</td>\n",
       "      <td>Yes</td>\n",
       "      <td>2007-11-27</td>\n",
       "      <td>48.7</td>\n",
       "      <td>14.1</td>\n",
       "      <td>210</td>\n",
       "      <td>4450</td>\n",
       "      <td>FEMALE</td>\n",
       "    </tr>\n",
       "    <tr>\n",
       "      <th>3</th>\n",
       "      <td>PAL0708</td>\n",
       "      <td>4</td>\n",
       "      <td>Gentoo</td>\n",
       "      <td>Anvers</td>\n",
       "      <td>Biscoe</td>\n",
       "      <td>N32A2</td>\n",
       "      <td>Yes</td>\n",
       "      <td>2007-11-27</td>\n",
       "      <td>50.0</td>\n",
       "      <td>15.2</td>\n",
       "      <td>218</td>\n",
       "      <td>5700</td>\n",
       "      <td>MALE</td>\n",
       "    </tr>\n",
       "    <tr>\n",
       "      <th>4</th>\n",
       "      <td>PAL0708</td>\n",
       "      <td>5</td>\n",
       "      <td>Gentoo</td>\n",
       "      <td>Anvers</td>\n",
       "      <td>Biscoe</td>\n",
       "      <td>N33A1</td>\n",
       "      <td>Yes</td>\n",
       "      <td>2007-11-18</td>\n",
       "      <td>47.6</td>\n",
       "      <td>14.5</td>\n",
       "      <td>215</td>\n",
       "      <td>5400</td>\n",
       "      <td>MALE</td>\n",
       "    </tr>\n",
       "    <tr>\n",
       "      <th>...</th>\n",
       "      <td>...</td>\n",
       "      <td>...</td>\n",
       "      <td>...</td>\n",
       "      <td>...</td>\n",
       "      <td>...</td>\n",
       "      <td>...</td>\n",
       "      <td>...</td>\n",
       "      <td>...</td>\n",
       "      <td>...</td>\n",
       "      <td>...</td>\n",
       "      <td>...</td>\n",
       "      <td>...</td>\n",
       "      <td>...</td>\n",
       "    </tr>\n",
       "    <tr>\n",
       "      <th>337</th>\n",
       "      <td>PAL0910</td>\n",
       "      <td>338</td>\n",
       "      <td>Chinstrap</td>\n",
       "      <td>Anvers</td>\n",
       "      <td>Dream</td>\n",
       "      <td>N98A2</td>\n",
       "      <td>Yes</td>\n",
       "      <td>2009-11-19</td>\n",
       "      <td>55.8</td>\n",
       "      <td>19.8</td>\n",
       "      <td>207</td>\n",
       "      <td>4000</td>\n",
       "      <td>MALE</td>\n",
       "    </tr>\n",
       "    <tr>\n",
       "      <th>338</th>\n",
       "      <td>PAL0910</td>\n",
       "      <td>339</td>\n",
       "      <td>Chinstrap</td>\n",
       "      <td>Anvers</td>\n",
       "      <td>Dream</td>\n",
       "      <td>N99A1</td>\n",
       "      <td>No</td>\n",
       "      <td>2009-11-21</td>\n",
       "      <td>43.5</td>\n",
       "      <td>18.1</td>\n",
       "      <td>202</td>\n",
       "      <td>3400</td>\n",
       "      <td>FEMALE</td>\n",
       "    </tr>\n",
       "    <tr>\n",
       "      <th>339</th>\n",
       "      <td>PAL0910</td>\n",
       "      <td>340</td>\n",
       "      <td>Chinstrap</td>\n",
       "      <td>Anvers</td>\n",
       "      <td>Dream</td>\n",
       "      <td>N99A2</td>\n",
       "      <td>No</td>\n",
       "      <td>2009-11-21</td>\n",
       "      <td>49.6</td>\n",
       "      <td>18.2</td>\n",
       "      <td>193</td>\n",
       "      <td>3775</td>\n",
       "      <td>MALE</td>\n",
       "    </tr>\n",
       "    <tr>\n",
       "      <th>340</th>\n",
       "      <td>PAL0910</td>\n",
       "      <td>341</td>\n",
       "      <td>Chinstrap</td>\n",
       "      <td>Anvers</td>\n",
       "      <td>Dream</td>\n",
       "      <td>N100A1</td>\n",
       "      <td>Yes</td>\n",
       "      <td>2009-11-21</td>\n",
       "      <td>50.8</td>\n",
       "      <td>19.0</td>\n",
       "      <td>210</td>\n",
       "      <td>4100</td>\n",
       "      <td>MALE</td>\n",
       "    </tr>\n",
       "    <tr>\n",
       "      <th>341</th>\n",
       "      <td>PAL0910</td>\n",
       "      <td>342</td>\n",
       "      <td>Chinstrap</td>\n",
       "      <td>Anvers</td>\n",
       "      <td>Dream</td>\n",
       "      <td>N100A2</td>\n",
       "      <td>Yes</td>\n",
       "      <td>2009-11-21</td>\n",
       "      <td>50.2</td>\n",
       "      <td>18.7</td>\n",
       "      <td>198</td>\n",
       "      <td>3775</td>\n",
       "      <td>FEMALE</td>\n",
       "    </tr>\n",
       "  </tbody>\n",
       "</table>\n",
       "<p>342 rows × 13 columns</p>\n",
       "</div>"
      ],
      "text/plain": [
       "    studyName  SampleNumber    Species  Region  Island Individual_ID  \\\n",
       "0     PAL0708             1     Gentoo  Anvers  Biscoe         N31A1   \n",
       "1     PAL0708             2     Gentoo  Anvers  Biscoe         N31A2   \n",
       "2     PAL0708             3     Gentoo  Anvers  Biscoe         N32A1   \n",
       "3     PAL0708             4     Gentoo  Anvers  Biscoe         N32A2   \n",
       "4     PAL0708             5     Gentoo  Anvers  Biscoe         N33A1   \n",
       "..        ...           ...        ...     ...     ...           ...   \n",
       "337   PAL0910           338  Chinstrap  Anvers   Dream         N98A2   \n",
       "338   PAL0910           339  Chinstrap  Anvers   Dream         N99A1   \n",
       "339   PAL0910           340  Chinstrap  Anvers   Dream         N99A2   \n",
       "340   PAL0910           341  Chinstrap  Anvers   Dream        N100A1   \n",
       "341   PAL0910           342  Chinstrap  Anvers   Dream        N100A2   \n",
       "\n",
       "    ClutchCompletion     DateEgg  CulmenLength(mm)  CulmenDepth(mm)  \\\n",
       "0                Yes  2007-11-27              46.1             13.2   \n",
       "1                Yes  2007-11-27              50.0             16.3   \n",
       "2                Yes  2007-11-27              48.7             14.1   \n",
       "3                Yes  2007-11-27              50.0             15.2   \n",
       "4                Yes  2007-11-18              47.6             14.5   \n",
       "..               ...         ...               ...              ...   \n",
       "337              Yes  2009-11-19              55.8             19.8   \n",
       "338               No  2009-11-21              43.5             18.1   \n",
       "339               No  2009-11-21              49.6             18.2   \n",
       "340              Yes  2009-11-21              50.8             19.0   \n",
       "341              Yes  2009-11-21              50.2             18.7   \n",
       "\n",
       "     FlipperLength(mm)  BodyMass(g)     Sex  \n",
       "0                  211         4500  FEMALE  \n",
       "1                  230         5700    MALE  \n",
       "2                  210         4450  FEMALE  \n",
       "3                  218         5700    MALE  \n",
       "4                  215         5400    MALE  \n",
       "..                 ...          ...     ...  \n",
       "337                207         4000    MALE  \n",
       "338                202         3400  FEMALE  \n",
       "339                193         3775    MALE  \n",
       "340                210         4100    MALE  \n",
       "341                198         3775  FEMALE  \n",
       "\n",
       "[342 rows x 13 columns]"
      ]
     },
     "execution_count": 2,
     "metadata": {},
     "output_type": "execute_result"
    }
   ],
   "source": [
    "## your code\n",
    "import pandas as pd\n",
    "import numpy as np\n",
    "import matplotlib.pyplot as plt\n",
    "from sklearn.model_selection import GridSearchCV\n",
    "from sklearn.metrics import classification_report\n",
    "from sklearn.metrics import confusion_matrix\n",
    "from sklearn.svm import SVC\n",
    "from sklearn.datasets import load_digits\n",
    "from sklearn.datasets import fetch_lfw_people\n",
    "import time\n",
    "from sklearn.datasets import make_circles\n",
    "from mpl_toolkits.mplot3d import Axes3D\n",
    "from sklearn.model_selection import train_test_split\n",
    "import statsmodels.api as sm\n",
    "from sklearn import metrics\n",
    "\n",
    "penguin = pd.read_csv('Penguin_data.csv')\n",
    "penguin\n"
   ]
  },
  {
   "cell_type": "markdown",
   "id": "dce3f1a9",
   "metadata": {},
   "source": [
    "**(5 pt) Now let's extract the useful data for classification.** Create a new data frame that contains only culmen lenth, culmen depth, flipper length, body mass, and species.\n"
   ]
  },
  {
   "cell_type": "code",
   "execution_count": 6,
   "id": "5fed8e85",
   "metadata": {},
   "outputs": [
    {
     "data": {
      "text/html": [
       "<div>\n",
       "<style scoped>\n",
       "    .dataframe tbody tr th:only-of-type {\n",
       "        vertical-align: middle;\n",
       "    }\n",
       "\n",
       "    .dataframe tbody tr th {\n",
       "        vertical-align: top;\n",
       "    }\n",
       "\n",
       "    .dataframe thead th {\n",
       "        text-align: right;\n",
       "    }\n",
       "</style>\n",
       "<table border=\"1\" class=\"dataframe\">\n",
       "  <thead>\n",
       "    <tr style=\"text-align: right;\">\n",
       "      <th></th>\n",
       "      <th>CulmenLength(mm)</th>\n",
       "      <th>CulmenDepth(mm)</th>\n",
       "      <th>FlipperLength(mm)</th>\n",
       "      <th>BodyMass(g)</th>\n",
       "      <th>Species</th>\n",
       "    </tr>\n",
       "  </thead>\n",
       "  <tbody>\n",
       "    <tr>\n",
       "      <th>0</th>\n",
       "      <td>46.1</td>\n",
       "      <td>13.2</td>\n",
       "      <td>211</td>\n",
       "      <td>4500</td>\n",
       "      <td>Gentoo</td>\n",
       "    </tr>\n",
       "    <tr>\n",
       "      <th>1</th>\n",
       "      <td>50.0</td>\n",
       "      <td>16.3</td>\n",
       "      <td>230</td>\n",
       "      <td>5700</td>\n",
       "      <td>Gentoo</td>\n",
       "    </tr>\n",
       "    <tr>\n",
       "      <th>2</th>\n",
       "      <td>48.7</td>\n",
       "      <td>14.1</td>\n",
       "      <td>210</td>\n",
       "      <td>4450</td>\n",
       "      <td>Gentoo</td>\n",
       "    </tr>\n",
       "    <tr>\n",
       "      <th>3</th>\n",
       "      <td>50.0</td>\n",
       "      <td>15.2</td>\n",
       "      <td>218</td>\n",
       "      <td>5700</td>\n",
       "      <td>Gentoo</td>\n",
       "    </tr>\n",
       "    <tr>\n",
       "      <th>4</th>\n",
       "      <td>47.6</td>\n",
       "      <td>14.5</td>\n",
       "      <td>215</td>\n",
       "      <td>5400</td>\n",
       "      <td>Gentoo</td>\n",
       "    </tr>\n",
       "    <tr>\n",
       "      <th>...</th>\n",
       "      <td>...</td>\n",
       "      <td>...</td>\n",
       "      <td>...</td>\n",
       "      <td>...</td>\n",
       "      <td>...</td>\n",
       "    </tr>\n",
       "    <tr>\n",
       "      <th>337</th>\n",
       "      <td>55.8</td>\n",
       "      <td>19.8</td>\n",
       "      <td>207</td>\n",
       "      <td>4000</td>\n",
       "      <td>Chinstrap</td>\n",
       "    </tr>\n",
       "    <tr>\n",
       "      <th>338</th>\n",
       "      <td>43.5</td>\n",
       "      <td>18.1</td>\n",
       "      <td>202</td>\n",
       "      <td>3400</td>\n",
       "      <td>Chinstrap</td>\n",
       "    </tr>\n",
       "    <tr>\n",
       "      <th>339</th>\n",
       "      <td>49.6</td>\n",
       "      <td>18.2</td>\n",
       "      <td>193</td>\n",
       "      <td>3775</td>\n",
       "      <td>Chinstrap</td>\n",
       "    </tr>\n",
       "    <tr>\n",
       "      <th>340</th>\n",
       "      <td>50.8</td>\n",
       "      <td>19.0</td>\n",
       "      <td>210</td>\n",
       "      <td>4100</td>\n",
       "      <td>Chinstrap</td>\n",
       "    </tr>\n",
       "    <tr>\n",
       "      <th>341</th>\n",
       "      <td>50.2</td>\n",
       "      <td>18.7</td>\n",
       "      <td>198</td>\n",
       "      <td>3775</td>\n",
       "      <td>Chinstrap</td>\n",
       "    </tr>\n",
       "  </tbody>\n",
       "</table>\n",
       "<p>342 rows × 5 columns</p>\n",
       "</div>"
      ],
      "text/plain": [
       "     CulmenLength(mm)  CulmenDepth(mm)  FlipperLength(mm)  BodyMass(g)  \\\n",
       "0                46.1             13.2                211         4500   \n",
       "1                50.0             16.3                230         5700   \n",
       "2                48.7             14.1                210         4450   \n",
       "3                50.0             15.2                218         5700   \n",
       "4                47.6             14.5                215         5400   \n",
       "..                ...              ...                ...          ...   \n",
       "337              55.8             19.8                207         4000   \n",
       "338              43.5             18.1                202         3400   \n",
       "339              49.6             18.2                193         3775   \n",
       "340              50.8             19.0                210         4100   \n",
       "341              50.2             18.7                198         3775   \n",
       "\n",
       "       Species  \n",
       "0       Gentoo  \n",
       "1       Gentoo  \n",
       "2       Gentoo  \n",
       "3       Gentoo  \n",
       "4       Gentoo  \n",
       "..         ...  \n",
       "337  Chinstrap  \n",
       "338  Chinstrap  \n",
       "339  Chinstrap  \n",
       "340  Chinstrap  \n",
       "341  Chinstrap  \n",
       "\n",
       "[342 rows x 5 columns]"
      ]
     },
     "execution_count": 6,
     "metadata": {},
     "output_type": "execute_result"
    }
   ],
   "source": [
    "## your code \n",
    "penguins = penguin[['CulmenLength(mm)', 'CulmenDepth(mm)', 'FlipperLength(mm)', 'BodyMass(g)', 'Species']]\n",
    "penguins"
   ]
  },
  {
   "cell_type": "markdown",
   "id": "e773d97c",
   "metadata": {},
   "source": [
    "---\n",
    "## Part 3 (15 Points)\n",
    "\n",
    "Use Seaborn to make a visualization showing the distributions (i.e.,scatterplots) of each of the different penguin characteristics. Your visualization should represent each of the different penguin species/classes as a different color. This should all be a single figure. Use the [**examples in the seaborn gallery**](https://seaborn.pydata.org/examples/index.html) to help you find the right type of figure. (Note: There are several types of figures that will work for this.)"
   ]
  },
  {
   "cell_type": "code",
   "execution_count": 12,
   "id": "3b3e9d97",
   "metadata": {},
   "outputs": [
    {
     "data": {
      "text/plain": [
       "<AxesSubplot:xlabel='CulmenLength(mm)', ylabel='CulmenDepth(mm)'>"
      ]
     },
     "execution_count": 12,
     "metadata": {},
     "output_type": "execute_result"
    },
    {
     "data": {
      "image/png": "[encoded data removed]",
      "text/plain": [
       "<Figure size 432x288 with 1 Axes>"
      ]
     },
     "metadata": {},
     "output_type": "display_data"
    }
   ],
   "source": [
    "## your code\n",
    "import seaborn as sns\n",
    "sns.set_theme()\n",
    "\n",
    "sns.scatterplot(\n",
    "    data=penguins,\n",
    "    x=\"CulmenLength(mm)\", y=\"CulmenDepth(mm)\", hue = 'Species'\n",
    "    )\n",
    "\n"
   ]
  },
  {
   "cell_type": "markdown",
   "id": "3a273ecf",
   "metadata": {},
   "source": [
    "## Part 4 (10 Points)\n",
    "\n",
    "Look at the distributions of the data. Without doing any model fitting (i.e., just by eye), which pair of measured characteristics do you think would be **easiest** for an ML technique to differentiate between? Which pair of seeds do you believe would be **hardest** to separate? **Why?** Justify your answers using your visualization."
   ]
  },
  {
   "cell_type": "markdown",
   "id": "5e3ed125",
   "metadata": {},
   "source": [
    "I would say the hardest would be the difference between Chinstrap and the others since it is in the middle and some overlap with the other two species.  The other two would be pretty easy to differentiate.\n"
   ]
  },
  {
   "cell_type": "markdown",
   "id": "3a0dc9cd",
   "metadata": {},
   "source": [
    "---\n",
    "### &#128721; STOP (2 points)\n",
    "**Pause to commit your changes to your Git repository!**\n",
    "\n",
    "Take a moment to save your notebook, commit and push the changes to your Git repository.\n",
    "\n",
    "---"
   ]
  },
  {
   "cell_type": "markdown",
   "id": "c071e0f3",
   "metadata": {},
   "source": [
    "## Part 5 (5 Points)\n",
    "\n",
    "Split the data into a training and testing set. Pick a reasonable train size. \n",
    "Also, for `random_state`, if your birthday is on an odd date of a month, set it to be 35. Otherwise, set it to 42."
   ]
  },
  {
   "cell_type": "code",
   "execution_count": null,
   "id": "dc5ca070",
   "metadata": {},
   "outputs": [],
   "source": [
    "## your code\n",
    "\n",
    "\n"
   ]
  },
  {
   "cell_type": "markdown",
   "id": "8fca903d",
   "metadata": {},
   "source": [
    "---\n",
    "## Part 6 (20 Points)\n",
    "\n",
    "Create and train a SVM model for classifying the data. **Note:** You may get multiple warnings when creating your model (warnings are *pink*). You may also get a warning about a failure to converge. It is fine to ignore these warnings. "
   ]
  },
  {
   "cell_type": "code",
   "execution_count": null,
   "id": "b85213f3",
   "metadata": {},
   "outputs": [],
   "source": [
    "## your code\n",
    "\n"
   ]
  },
  {
   "cell_type": "markdown",
   "id": "7e6186fb",
   "metadata": {},
   "source": [
    "---\n",
    "## Part 7 (5 Points)\n",
    "\n",
    "**Evaluate your model by finding the accuracy, recall, precision, and confusion matrix using the test data.**"
   ]
  },
  {
   "cell_type": "code",
   "execution_count": null,
   "id": "d6b4af2f",
   "metadata": {},
   "outputs": [],
   "source": [
    "## your code\n"
   ]
  },
  {
   "cell_type": "markdown",
   "id": "6468d775",
   "metadata": {},
   "source": [
    "---\n",
    "### &#128721; STOP (2 points)\n",
    "**Pause to commit your changes to your Git repository!**\n",
    "\n",
    "Take a moment to save your notebook, commit and push the changes to your Git repository.\n",
    "\n",
    "---"
   ]
  },
  {
   "cell_type": "markdown",
   "id": "019d8d62",
   "metadata": {},
   "source": [
    "\n",
    "## Part 8 (7 Points)\n",
    "\n",
    "I caught a penguin. It has a short (40 mm in length) and mediate-thick (17 mm in depth) bill. Its flippers are short (190 mm). It's kinda skinny, weighing 3000 g, What is its species determined by your classifier?"
   ]
  },
  {
   "cell_type": "code",
   "execution_count": null,
   "id": "e11c44fe",
   "metadata": {},
   "outputs": [],
   "source": [
    "## your code\n",
    "\n"
   ]
  },
  {
   "cell_type": "markdown",
   "id": "f7adeef0",
   "metadata": {},
   "source": [
    "write your answer here."
   ]
  },
  {
   "cell_type": "markdown",
   "id": "579fd697",
   "metadata": {},
   "source": [
    "---\n",
    "## Part 9 (7 Points)\n",
    "\n",
    "**Let's try to use `LogisticRegression` function in sklearn to classify the same data.** Note that we are **not** using `statsmodels` here. Import logistic regression function from sklearn and build logistic regression model to classify the penguin data."
   ]
  },
  {
   "cell_type": "code",
   "execution_count": null,
   "id": "3a3840b8",
   "metadata": {},
   "outputs": [],
   "source": [
    "## your code\n",
    "\n",
    "\n"
   ]
  },
  {
   "cell_type": "markdown",
   "id": "3f46abcf",
   "metadata": {},
   "source": [
    "---\n",
    "## Part 10 (3 Points)\n",
    "\n",
    "**Evaluate your model by finding the accuracy, recall, precision, and confusion matrix using the test data.**"
   ]
  },
  {
   "cell_type": "code",
   "execution_count": null,
   "id": "7c1e89cf",
   "metadata": {},
   "outputs": [],
   "source": [
    "## your code\n",
    "\n"
   ]
  },
  {
   "cell_type": "markdown",
   "id": "8bd46355",
   "metadata": {},
   "source": [
    "**Compare to SVM, does Logisitic Regression give better result?**"
   ]
  },
  {
   "cell_type": "markdown",
   "id": "02b510a6",
   "metadata": {},
   "source": [
    "write your answer here\n"
   ]
  },
  {
   "cell_type": "markdown",
   "id": "86e5341d",
   "metadata": {},
   "source": [
    "---\n",
    "## Part 11 (8 Points)\n",
    "Reflect on you have learned  in this class. What can we do to improve the accuracy of the classifiers? "
   ]
  },
  {
   "cell_type": "markdown",
   "id": "7cb7e237",
   "metadata": {},
   "source": [
    "write your answer here"
   ]
  },
  {
   "cell_type": "markdown",
   "id": "9b041dd4",
   "metadata": {},
   "source": [
    "---\n",
    "### &#128721; STOP (2 points)\n",
    "**Pause to commit your changes to your Git repository!**\n",
    "\n",
    "Take a moment to save your notebook, commit and push the changes to your Git repository.\n",
    "\n",
    "---\n",
    "**Record the time you finish here in the next cell.**"
   ]
  },
  {
   "cell_type": "markdown",
   "id": "622ca306",
   "metadata": {},
   "source": []
  },
  {
   "cell_type": "markdown",
   "id": "397b25c5",
   "metadata": {},
   "source": [
    "## You're done! Congrats on finishing CMSE 202!\n",
    "Don't forget to also upload this file to D2L drop box."
   ]
  }
 ],
 "metadata": {
  "kernelspec": {
   "display_name": "Python 3",
   "language": "python",
   "name": "python3"
  },
  "language_info": {
   "codemirror_mode": {
    "name": "ipython",
    "version": 3
   },
   "file_extension": ".py",
   "mimetype": "text/x-python",
   "name": "python",
   "nbconvert_exporter": "python",
   "pygments_lexer": "ipython3",
   "version": "3.8.8"
  }
 },
 "nbformat": 4,
 "nbformat_minor": 5
}
